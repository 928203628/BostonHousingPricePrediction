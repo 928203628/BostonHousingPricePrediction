{
 "cells": [
  {
   "cell_type": "code",
   "execution_count": 98,
   "metadata": {
    "collapsed": true
   },
   "outputs": [],
   "source": [
    "from sklearn.svm import SVR\n",
    "from sklearn.ensemble import RandomForestRegressor, AdaBoostRegressor\n",
    "import pandas as pd\n",
    "from sklearn.metrics import mean_squared_error\n",
    "from sklearn.model_selection import cross_val_score\n",
    "from sklearn.preprocessing import StandardScaler\n",
    "from sklearn.decomposition import PCA\n",
    "import matplotlib.pyplot as plt\n",
    "import math"
   ]
  },
  {
   "cell_type": "code",
   "execution_count": 2,
   "metadata": {
    "collapsed": false
   },
   "outputs": [
    {
     "data": {
      "text/html": [
       "<div>\n",
       "<table border=\"1\" class=\"dataframe\">\n",
       "  <thead>\n",
       "    <tr style=\"text-align: right;\">\n",
       "      <th></th>\n",
       "      <th>ID</th>\n",
       "      <th>crim</th>\n",
       "      <th>zn</th>\n",
       "      <th>indus</th>\n",
       "      <th>chas</th>\n",
       "      <th>nox</th>\n",
       "      <th>rm</th>\n",
       "      <th>age</th>\n",
       "      <th>dis</th>\n",
       "      <th>rad</th>\n",
       "      <th>tax</th>\n",
       "      <th>ptratio</th>\n",
       "      <th>black</th>\n",
       "      <th>lstat</th>\n",
       "      <th>medv</th>\n",
       "    </tr>\n",
       "  </thead>\n",
       "  <tbody>\n",
       "    <tr>\n",
       "      <th>0</th>\n",
       "      <td>1</td>\n",
       "      <td>0.00632</td>\n",
       "      <td>18.0</td>\n",
       "      <td>2.31</td>\n",
       "      <td>0</td>\n",
       "      <td>0.538</td>\n",
       "      <td>6.575</td>\n",
       "      <td>65.2</td>\n",
       "      <td>4.0900</td>\n",
       "      <td>1</td>\n",
       "      <td>296</td>\n",
       "      <td>15.3</td>\n",
       "      <td>396.90</td>\n",
       "      <td>4.98</td>\n",
       "      <td>24.0</td>\n",
       "    </tr>\n",
       "    <tr>\n",
       "      <th>1</th>\n",
       "      <td>2</td>\n",
       "      <td>0.02731</td>\n",
       "      <td>0.0</td>\n",
       "      <td>7.07</td>\n",
       "      <td>0</td>\n",
       "      <td>0.469</td>\n",
       "      <td>6.421</td>\n",
       "      <td>78.9</td>\n",
       "      <td>4.9671</td>\n",
       "      <td>2</td>\n",
       "      <td>242</td>\n",
       "      <td>17.8</td>\n",
       "      <td>396.90</td>\n",
       "      <td>9.14</td>\n",
       "      <td>21.6</td>\n",
       "    </tr>\n",
       "    <tr>\n",
       "      <th>2</th>\n",
       "      <td>4</td>\n",
       "      <td>0.03237</td>\n",
       "      <td>0.0</td>\n",
       "      <td>2.18</td>\n",
       "      <td>0</td>\n",
       "      <td>0.458</td>\n",
       "      <td>6.998</td>\n",
       "      <td>45.8</td>\n",
       "      <td>6.0622</td>\n",
       "      <td>3</td>\n",
       "      <td>222</td>\n",
       "      <td>18.7</td>\n",
       "      <td>394.63</td>\n",
       "      <td>2.94</td>\n",
       "      <td>33.4</td>\n",
       "    </tr>\n",
       "    <tr>\n",
       "      <th>3</th>\n",
       "      <td>5</td>\n",
       "      <td>0.06905</td>\n",
       "      <td>0.0</td>\n",
       "      <td>2.18</td>\n",
       "      <td>0</td>\n",
       "      <td>0.458</td>\n",
       "      <td>7.147</td>\n",
       "      <td>54.2</td>\n",
       "      <td>6.0622</td>\n",
       "      <td>3</td>\n",
       "      <td>222</td>\n",
       "      <td>18.7</td>\n",
       "      <td>396.90</td>\n",
       "      <td>5.33</td>\n",
       "      <td>36.2</td>\n",
       "    </tr>\n",
       "    <tr>\n",
       "      <th>4</th>\n",
       "      <td>7</td>\n",
       "      <td>0.08829</td>\n",
       "      <td>12.5</td>\n",
       "      <td>7.87</td>\n",
       "      <td>0</td>\n",
       "      <td>0.524</td>\n",
       "      <td>6.012</td>\n",
       "      <td>66.6</td>\n",
       "      <td>5.5605</td>\n",
       "      <td>5</td>\n",
       "      <td>311</td>\n",
       "      <td>15.2</td>\n",
       "      <td>395.60</td>\n",
       "      <td>12.43</td>\n",
       "      <td>22.9</td>\n",
       "    </tr>\n",
       "  </tbody>\n",
       "</table>\n",
       "</div>"
      ],
      "text/plain": [
       "   ID     crim    zn  indus  chas    nox     rm   age     dis  rad  tax  \\\n",
       "0   1  0.00632  18.0   2.31     0  0.538  6.575  65.2  4.0900    1  296   \n",
       "1   2  0.02731   0.0   7.07     0  0.469  6.421  78.9  4.9671    2  242   \n",
       "2   4  0.03237   0.0   2.18     0  0.458  6.998  45.8  6.0622    3  222   \n",
       "3   5  0.06905   0.0   2.18     0  0.458  7.147  54.2  6.0622    3  222   \n",
       "4   7  0.08829  12.5   7.87     0  0.524  6.012  66.6  5.5605    5  311   \n",
       "\n",
       "   ptratio   black  lstat  medv  \n",
       "0     15.3  396.90   4.98  24.0  \n",
       "1     17.8  396.90   9.14  21.6  \n",
       "2     18.7  394.63   2.94  33.4  \n",
       "3     18.7  396.90   5.33  36.2  \n",
       "4     15.2  395.60  12.43  22.9  "
      ]
     },
     "execution_count": 2,
     "metadata": {},
     "output_type": "execute_result"
    }
   ],
   "source": [
    "train_data= pd.read_csv('boston_train.csv')\n",
    "train_data.head()"
   ]
  },
  {
   "cell_type": "code",
   "execution_count": 3,
   "metadata": {
    "collapsed": true
   },
   "outputs": [],
   "source": [
    "x_train= train_data.drop('medv', axis= 1)\n",
    "y_train= train_data['medv']"
   ]
  },
  {
   "cell_type": "markdown",
   "metadata": {},
   "source": [
    "# Here I am about to determine the best suitable model and parameters "
   ]
  },
  {
   "cell_type": "code",
   "execution_count": 15,
   "metadata": {
    "collapsed": false
   },
   "outputs": [],
   "source": [
    "reg= SVR(C= 10)\n",
    "scores= cross_val_score(reg, x_train, y_train, cv= 5, scoring= 'neg_mean_squared_error')"
   ]
  },
  {
   "cell_type": "code",
   "execution_count": 16,
   "metadata": {
    "collapsed": false
   },
   "outputs": [
    {
     "name": "stdout",
     "output_type": "stream",
     "text": [
      "-96.339031012\n",
      "51.3670720365\n"
     ]
    }
   ],
   "source": [
    "print (scores.mean())\n",
    "print (scores.std())"
   ]
  },
  {
   "cell_type": "code",
   "execution_count": 8,
   "metadata": {
    "collapsed": false
   },
   "outputs": [
    {
     "data": {
      "text/plain": [
       "22.76876876876877"
      ]
     },
     "execution_count": 8,
     "metadata": {},
     "output_type": "execute_result"
    }
   ],
   "source": [
    "train_data['medv'].mean()"
   ]
  },
  {
   "cell_type": "code",
   "execution_count": 17,
   "metadata": {
    "collapsed": true
   },
   "outputs": [],
   "source": [
    "scale= StandardScaler()\n",
    "scale.fit(x_train)\n",
    "x_train_scaled= scale.transform(x_train)"
   ]
  },
  {
   "cell_type": "code",
   "execution_count": 83,
   "metadata": {
    "collapsed": true
   },
   "outputs": [],
   "source": [
    "reg= SVR(C= 20)\n",
    "scores= cross_val_score(reg, x_train_scaled, y_train, cv= 5, scoring= 'neg_mean_squared_error')"
   ]
  },
  {
   "cell_type": "code",
   "execution_count": 84,
   "metadata": {
    "collapsed": false
   },
   "outputs": [
    {
     "data": {
      "text/plain": [
       "(-35.631526629368174, 21.259757206848853)"
      ]
     },
     "execution_count": 84,
     "metadata": {},
     "output_type": "execute_result"
    }
   ],
   "source": [
    "scores.mean(), scores.std()"
   ]
  },
  {
   "cell_type": "code",
   "execution_count": 93,
   "metadata": {
    "collapsed": true
   },
   "outputs": [],
   "source": [
    "reg= RandomForestRegressor()\n",
    "scores= cross_val_score(reg, x_train, y_train, cv= 5, scoring= 'neg_mean_squared_error')"
   ]
  },
  {
   "cell_type": "code",
   "execution_count": 94,
   "metadata": {
    "collapsed": false
   },
   "outputs": [
    {
     "data": {
      "text/plain": [
       "(-33.43918090004523, 27.764560528604555)"
      ]
     },
     "execution_count": 94,
     "metadata": {},
     "output_type": "execute_result"
    }
   ],
   "source": [
    "scores.mean(), scores.std()"
   ]
  },
  {
   "cell_type": "markdown",
   "metadata": {},
   "source": [
    "# Let's visualize the complexity of the data "
   ]
  },
  {
   "cell_type": "code",
   "execution_count": 51,
   "metadata": {
    "collapsed": false
   },
   "outputs": [
    {
     "data": {
      "text/plain": [
       "PCA(copy=True, iterated_power='auto', n_components=2, random_state=None,\n",
       "  svd_solver='auto', tol=0.0, whiten=False)"
      ]
     },
     "execution_count": 51,
     "metadata": {},
     "output_type": "execute_result"
    }
   ],
   "source": [
    "pca= PCA(n_components= 2)\n",
    "pca.fit(x_train_scaled)"
   ]
  },
  {
   "cell_type": "code",
   "execution_count": 54,
   "metadata": {
    "collapsed": false
   },
   "outputs": [],
   "source": [
    "projection= pca.transform(x_train_scaled)"
   ]
  },
  {
   "cell_type": "code",
   "execution_count": 57,
   "metadata": {
    "collapsed": false
   },
   "outputs": [
    {
     "data": {
      "image/png": "[encoded data removed]",
      "text/plain": [
       "<matplotlib.figure.Figure at 0xa7aa8b2c>"
      ]
     },
     "metadata": {},
     "output_type": "display_data"
    }
   ],
   "source": [
    "plt.scatter(projection[:,0], projection[:,1])\n",
    "plt.show()"
   ]
  },
  {
   "cell_type": "code",
   "execution_count": 62,
   "metadata": {
    "collapsed": false
   },
   "outputs": [
    {
     "data": {
      "image/png": "[encoded data removed]",
      "text/plain": [
       "<matplotlib.figure.Figure at 0xa7917aec>"
      ]
     },
     "metadata": {},
     "output_type": "display_data"
    }
   ],
   "source": [
    "plt.scatter(projection[:,0], y_train)\n",
    "plt.show()"
   ]
  },
  {
   "cell_type": "code",
   "execution_count": 65,
   "metadata": {
    "collapsed": true
   },
   "outputs": [],
   "source": [
    "from mpl_toolkits.mplot3d import axes3d "
   ]
  },
  {
   "cell_type": "code",
   "execution_count": 72,
   "metadata": {
    "collapsed": false
   },
   "outputs": [
    {
     "data": {
      "image/png": "[encoded data removed]",
      "text/plain": [
       "<matplotlib.figure.Figure at 0xa76c440c>"
      ]
     },
     "metadata": {},
     "output_type": "display_data"
    }
   ],
   "source": [
    "fig= plt.figure()\n",
    "ax= fig.add_subplot(111, projection= '3d')\n",
    "ax.scatter(projection[:,0], projection[:,1], y_train, color= 'blue')\n",
    "plt.show()"
   ]
  },
  {
   "cell_type": "markdown",
   "metadata": {},
   "source": [
    "# From the above plots it appears that embedded pattern in the data is not very complex, however the dataset contains a lot of noisy data points; hence the model must be regularized properly."
   ]
  },
  {
   "cell_type": "markdown",
   "metadata": {},
   "source": [
    "# By now it's clear Random Forest will perform much better as compared to SVM "
   ]
  },
  {
   "cell_type": "code",
   "execution_count": 107,
   "metadata": {
    "collapsed": false
   },
   "outputs": [
    {
     "name": "stdout",
     "output_type": "stream",
     "text": [
      "Mean_Error with 15 estimators: 5.26 +/- 34.34\n"
     ]
    }
   ],
   "source": [
    "# Model Tuning\n",
    "reg= RandomForestRegressor(n_estimators= 15)\n",
    "scores= cross_val_score(reg, x_train, y_train, cv= 10, scoring= 'neg_mean_squared_error')\n",
    "print ('Mean_Error with 15 estimators: %.2f +/- %.2f' %(math.sqrt(-scores.mean()), scores.std()))"
   ]
  },
  {
   "cell_type": "code",
   "execution_count": 109,
   "metadata": {
    "collapsed": false
   },
   "outputs": [
    {
     "name": "stdout",
     "output_type": "stream",
     "text": [
      "Mean_Error with 15 estimators: 5.74 +/- 39.03\n"
     ]
    }
   ],
   "source": [
    "reg= RandomForestRegressor(n_estimators= 10)\n",
    "scores= cross_val_score(reg, x_train, y_train, cv= 10, scoring= 'neg_mean_squared_error')\n",
    "print ('Mean_Error with 15 estimators: %.2f +/- %.2f' %(math.sqrt(-scores.mean()), scores.std()))"
   ]
  },
  {
   "cell_type": "code",
   "execution_count": 113,
   "metadata": {
    "collapsed": false
   },
   "outputs": [
    {
     "name": "stdout",
     "output_type": "stream",
     "text": [
      "Mean_Error with 15 estimators: 4.92 +/- 28.96\n"
     ]
    }
   ],
   "source": [
    "reg= RandomForestRegressor(n_estimators= 15, max_depth= 5)\n",
    "scores= cross_val_score(reg, x_train, y_train, cv= 10, scoring= 'neg_mean_squared_error')\n",
    "print ('Mean_Error with 15 estimators: %.2f +/- %.2f' %(math.sqrt(-scores.mean()), scores.std()))"
   ]
  },
  {
   "cell_type": "code",
   "execution_count": 115,
   "metadata": {
    "collapsed": false
   },
   "outputs": [
    {
     "name": "stdout",
     "output_type": "stream",
     "text": [
      "Mean_Error with 15 estimators: 5.10 +/- 30.44\n"
     ]
    }
   ],
   "source": [
    "reg= RandomForestRegressor(n_estimators= 10, max_depth= 5)\n",
    "scores= cross_val_score(reg, x_train, y_train, cv= 10, scoring= 'neg_mean_squared_error')\n",
    "print ('Mean_Error with 15 estimators: %.2f +/- %.2f' %(math.sqrt(-scores.mean()), scores.std()))"
   ]
  },
  {
   "cell_type": "code",
   "execution_count": 117,
   "metadata": {
    "collapsed": false
   },
   "outputs": [
    {
     "name": "stdout",
     "output_type": "stream",
     "text": [
      "Mean_Error with 15 estimators: 5.14 +/- 28.06\n"
     ]
    }
   ],
   "source": [
    "reg= RandomForestRegressor(n_estimators= 15, max_depth= 3)\n",
    "scores= cross_val_score(reg, x_train, y_train, cv= 10, scoring= 'neg_mean_squared_error')\n",
    "print ('Mean_Error with 15 estimators: %.2f +/- %.2f' %(math.sqrt(-scores.mean()), scores.std()))"
   ]
  },
  {
   "cell_type": "code",
   "execution_count": 123,
   "metadata": {
    "collapsed": false
   },
   "outputs": [
    {
     "name": "stdout",
     "output_type": "stream",
     "text": [
      "Mean_Error with 15 estimators: 4.99 +/- 28.64\n"
     ]
    }
   ],
   "source": [
    "reg= RandomForestRegressor(n_estimators= 15, max_depth= 7)\n",
    "scores= cross_val_score(reg, x_train, y_train, cv= 10, scoring= 'neg_mean_squared_error')\n",
    "print ('Mean_Error with 15 estimators: %.2f +/- %.2f' %(math.sqrt(-scores.mean()), scores.std()))"
   ]
  },
  {
   "cell_type": "markdown",
   "metadata": {},
   "source": [
    "# After performing several trail and Errors, for acheaving a robust and accurate model, I am choosing hyperperameters n_estimators= 15 and max_depth= 5"
   ]
  },
  {
   "cell_type": "markdown",
   "metadata": {},
   "source": [
    "# How Ever Random Forests are scale invariant models, but still let's have a look it there is any influence of scaled features"
   ]
  },
  {
   "cell_type": "code",
   "execution_count": 127,
   "metadata": {
    "collapsed": false
   },
   "outputs": [
    {
     "name": "stdout",
     "output_type": "stream",
     "text": [
      "Mean_Error with 15 estimators: 4.95 +/- 29.03\n"
     ]
    }
   ],
   "source": [
    "reg= RandomForestRegressor(n_estimators= 15, max_depth= 5)\n",
    "scores= cross_val_score(reg, x_train_scaled, y_train, cv= 10, scoring= 'neg_mean_squared_error')\n",
    "print ('Mean_Error with 15 estimators: %.2f +/- %.2f' %(math.sqrt(-scores.mean()), scores.std()))"
   ]
  },
  {
   "cell_type": "markdown",
   "metadata": {},
   "source": [
    "# no significant improvement"
   ]
  },
  {
   "cell_type": "code",
   "execution_count": 134,
   "metadata": {
    "collapsed": false
   },
   "outputs": [
    {
     "name": "stdout",
     "output_type": "stream",
     "text": [
      "Mean_Error: 3.58 +/- 4.19\n"
     ]
    }
   ],
   "source": [
    "# Lastly let's also verify if shuffling the data has any form of influence over the accuracy of model\n",
    "train_data= train_data.sample(frac= 1)\n",
    "x_train, y_train= train_data.drop('medv', axis= 1), train_data['medv']\n",
    "\n",
    "reg= RandomForestRegressor(n_estimators= 15, max_depth= 5)\n",
    "scores= cross_val_score(reg, x_train, y_train, cv= 10, scoring= 'neg_mean_squared_error')\n",
    "print ('Mean_Error: %.2f +/- %.2f' %(math.sqrt(-scores.mean()), scores.std()))"
   ]
  },
  {
   "cell_type": "markdown",
   "metadata": {},
   "source": [
    "# There's a substatial improvement in the accuracy of prediction by shuffling the data"
   ]
  },
  {
   "cell_type": "code",
   "execution_count": 140,
   "metadata": {
    "collapsed": false
   },
   "outputs": [
    {
     "name": "stdout",
     "output_type": "stream",
     "text": [
      "Mean_Error: 3.12 +/- 3.77\n"
     ]
    }
   ],
   "source": [
    "model= RandomForestRegressor(n_estimators= 10, max_depth= 5)\n",
    "reg= AdaBoostRegressor(model, n_estimators= 25)\n",
    "scores= cross_val_score(reg, x_train, y_train, cv= 10, scoring= 'neg_mean_squared_error')\n",
    "print ('Mean_Error: %.2f +/- %.2f' %(math.sqrt(-scores.mean()), scores.std()))"
   ]
  },
  {
   "cell_type": "code",
   "execution_count": 141,
   "metadata": {
    "collapsed": false
   },
   "outputs": [
    {
     "name": "stdout",
     "output_type": "stream",
     "text": [
      "Mean_Error: 3.02 +/- 3.06\n"
     ]
    }
   ],
   "source": [
    "model= RandomForestRegressor(n_estimators= 10, max_depth= 5)\n",
    "reg= AdaBoostRegressor(model, n_estimators= 30)\n",
    "scores= cross_val_score(reg, x_train, y_train, cv= 10, scoring= 'neg_mean_squared_error')\n",
    "print ('Mean_Error: %.2f +/- %.2f' %(math.sqrt(-scores.mean()), scores.std()))"
   ]
  },
  {
   "cell_type": "code",
   "execution_count": 143,
   "metadata": {
    "collapsed": false
   },
   "outputs": [
    {
     "name": "stdout",
     "output_type": "stream",
     "text": [
      "Mean_Error: 3.05 +/- 3.40\n"
     ]
    }
   ],
   "source": [
    "model= RandomForestRegressor(n_estimators= 10, max_depth= 5)\n",
    "reg= AdaBoostRegressor(model, n_estimators= 40)\n",
    "scores= cross_val_score(reg, x_train, y_train, cv= 10, scoring= 'neg_mean_squared_error')\n",
    "print ('Mean_Error: %.2f +/- %.2f' %(math.sqrt(-scores.mean()), scores.std()))"
   ]
  },
  {
   "cell_type": "code",
   "execution_count": 144,
   "metadata": {
    "collapsed": false
   },
   "outputs": [
    {
     "name": "stdout",
     "output_type": "stream",
     "text": [
      "Mean_Error: 3.11 +/- 3.64\n"
     ]
    }
   ],
   "source": [
    "model= RandomForestRegressor(n_estimators= 15, max_depth= 5)\n",
    "reg= AdaBoostRegressor(model, n_estimators= 25)\n",
    "scores= cross_val_score(reg, x_train, y_train, cv= 10, scoring= 'neg_mean_squared_error')\n",
    "print ('Mean_Error: %.2f +/- %.2f' %(math.sqrt(-scores.mean()), scores.std()))"
   ]
  },
  {
   "cell_type": "code",
   "execution_count": 145,
   "metadata": {
    "collapsed": false
   },
   "outputs": [
    {
     "name": "stdout",
     "output_type": "stream",
     "text": [
      "Mean_Error: 3.19 +/- 4.61\n"
     ]
    }
   ],
   "source": [
    "model= RandomForestRegressor(n_estimators= 5, max_depth= 5)\n",
    "reg= AdaBoostRegressor(model, n_estimators= 25)\n",
    "scores= cross_val_score(reg, x_train, y_train, cv= 10, scoring= 'neg_mean_squared_error')\n",
    "print ('Mean_Error: %.2f +/- %.2f' %(math.sqrt(-scores.mean()), scores.std()))"
   ]
  },
  {
   "cell_type": "markdown",
   "metadata": {},
   "source": [
    "# Boosting the random forest (with params n_estimators= 10, max_depth= 5) with 30 estimators resulted in improvement"
   ]
  },
  {
   "cell_type": "code",
   "execution_count": null,
   "metadata": {
    "collapsed": true
   },
   "outputs": [],
   "source": []
  }
 ],
 "metadata": {
  "kernelspec": {
   "display_name": "Python 2",
   "language": "python",
   "name": "python2"
  },
  "language_info": {
   "codemirror_mode": {
    "name": "ipython",
    "version": 2
   },
   "file_extension": ".py",
   "mimetype": "text/x-python",
   "name": "python",
   "nbconvert_exporter": "python",
   "pygments_lexer": "ipython2",
   "version": "2.7.13"
  }
 },
 "nbformat": 4,
 "nbformat_minor": 2
}
